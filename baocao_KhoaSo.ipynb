{
  "nbformat": 4,
  "nbformat_minor": 0,
  "metadata": {
    "kernelspec": {
      "display_name": "Python 3",
      "language": "python",
      "name": "python3"
    },
    "language_info": {
      "codemirror_mode": {
        "name": "ipython",
        "version": 3
      },
      "file_extension": ".py",
      "mimetype": "text/x-python",
      "name": "python",
      "nbconvert_exporter": "python",
      "pygments_lexer": "ipython3",
      "version": "3.8.5"
    },
    "colab": {
      "name": "BaoCao_KhoaSo.ipynb",
      "provenance": [],
      "collapsed_sections": []
    }
  },
  "cells": [
    {
      "cell_type": "markdown",
      "metadata": {
        "id": "7yBPMP-lJYCw"
      },
      "source": [
        "# Báo cáo bài tập Khóa Số - Nhóm 14 - CS112.L21 "
      ]
    },
    {
      "cell_type": "markdown",
      "metadata": {
        "id": "GiHqqEn_JYC3"
      },
      "source": [
        "\n",
        "## Abstraction\n",
        "\n",
        "Nhập vào 1 xâu các chữ số. Đổi chổ hoặc xóa các chữ số, sao cho xâu output xuất ra thỏa mãn: số chia hết cho 3 và có độ dài xâu lớn nhất.\n",
        "\n",
        "## Pattern Recognition\n",
        "\n",
        "Dạng bài tập brute force, đặc điểm dùng vòng lặp duyệt qua tất cả các trường hợp xảy ra.\n",
        "\n",
        "## Algorithm Designed:\n",
        "\n",
        "Mã giả:\n",
        "\n",
        "    ```\n",
        "    Nhập: chuoikitu.\n",
        "    array = sort(chuoikitu) từ lớn đến bé.\n",
        "    n = len(array)\n",
        "    while True:\n",
        "        Tong = tổng chữ số trong chuoikitu.\n",
        "        if Tong % 3 == 0:\n",
        "            break => Xuất: array\n",
        "        else:\n",
        "            if Tong % 3 dư 1:\n",
        "                check = [1, 4, 7]\n",
        "                for i in check:\n",
        "                    xóa i khỏi array\n",
        "            if Tong % 3 dư 2:\n",
        "                check = [2, 5, 8]\n",
        "                for i in check:\n",
        "                    xóa i khỏi array\n",
        "            if len(array) == n:\n",
        "                for i in array:\n",
        "                    xóa giá trị i nhỏ nhất khỏi array\n",
        "    Xuất: array\n",
        "    ```\n",
        "\n",
        "## Complexity \n",
        "\n",
        "- Hàm sorted là hàm sắp xếp với T1(n) = C*nlog(n)\n",
        "- Vòng while chạy trong trường hợp xấu nhất chỉ có 2 lần T2(n) = 2:\n",
        "  + CM: Ví với số x % 3 == 2\n",
        "  + Mà trong x không có số chia hết cho 2 -> bỏ số chia hết cho 1 -> x = new(x) -> x % 3 = 1\n",
        "  + Lặp lại một lần nữa thì cũng thế sẽ bỏ số chia hết cho 1 -> x = new(x) -> x % 3 =0\n",
        "  + Với TH x % 3 == 2 tương tự.\n",
        "- Vòng for chỉ lập 3 lần array.index(x) => T3(n) = 3 * n\n",
        "- Các hàm sum(array), array.remove(x): có T(n) = n, min(array, key=func) với func: có T(n) = c * n\n",
        "\n",
        "=> Tổng T4(n) các hàm trên là T4(n) = (C1 + c) * n.\n",
        "\n",
        "=> Tổng T(n) = T1 + T2 * (T3 + T4) = C*nlog(n) + 2 * ((C1 + c + 3) * n) = C*nlog(n) + 2 * C2 * n\n",
        "\n",
        "=> \tT(n) ≈ C*nlog(n) + C'*n   \n",
        "\n",
        "=> T(n) = Θ(nlog(n))\n"
      ]
    },
    {
      "cell_type": "markdown",
      "metadata": {
        "id": "yZxyl_9NJYC3"
      },
      "source": [
        "## Programing "
      ]
    },
    {
      "cell_type": "code",
      "metadata": {
        "colab": {
          "base_uri": "https://localhost:8080/"
        },
        "id": "vCapEpnsJYC4",
        "outputId": "456126a3-1424-450b-e65a-41298b629476"
      },
      "source": [
        "chuoikitu = input().strip()\n",
        "array = list(sorted(map(int, chuoikitu), reverse=True))\n",
        "n = len(array)\n",
        "def func(x):\n",
        "    if x % 3 == 0:\n",
        "        return 10 \n",
        "    else:\n",
        "        return x\n",
        "while True:\n",
        "    Tong = sum(array)\n",
        "    surplus = Tong % 3\n",
        "    if surplus == 0:\n",
        "        break\n",
        "    for num in [0 + surplus, 3 + surplus, 6 + surplus]:\n",
        "        try:\n",
        "            del array[array.index(num)]\n",
        "            break\n",
        "        except ValueError:\n",
        "            continue\n",
        "        if len(array) == n:\n",
        "            array.remove(min(array, key=func))\n",
        "array = list(map(str, array))\n",
        "print(''.join(array))"
      ],
      "execution_count": null,
      "outputs": [
        {
          "output_type": "stream",
          "text": [
            "105\n",
            "510\n"
          ],
          "name": "stdout"
        }
      ]
    }
  ]
}
